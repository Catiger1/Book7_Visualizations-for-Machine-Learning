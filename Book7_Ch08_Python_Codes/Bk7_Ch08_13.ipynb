{
 "cells": [
  {
   "cell_type": "markdown",
   "id": "1a955205-3348-4fcd-8a02-1bdd1d580c1a",
   "metadata": {},
   "source": [
    "Chapter 08\n",
    "\n",
    "# 相关性距离\n",
    "Book_7《机器学习》 | 鸢尾花书：从加减乘除到机器学习"
   ]
  },
  {
   "cell_type": "code",
   "execution_count": null,
   "id": "9be9e990-f506-46c0-94ed-98969757839e",
   "metadata": {},
   "outputs": [],
   "source": [
    "import numpy as np\n",
    "from scipy.spatial import distance\n",
    "x = np.array([[8, 2]])\n",
    "q = np.array([[7, 9]])\n",
    "\n",
    "d_x_q = distance.correlation(x,q)\n",
    "print(d_x_q)"
   ]
  }
 ],
 "metadata": {
  "kernelspec": {
   "display_name": "Python 3 (ipykernel)",
   "language": "python",
   "name": "python3"
  },
  "language_info": {
   "codemirror_mode": {
    "name": "ipython",
    "version": 3
   },
   "file_extension": ".py",
   "mimetype": "text/x-python",
   "name": "python",
   "nbconvert_exporter": "python",
   "pygments_lexer": "ipython3",
   "version": "3.10.9"
  }
 },
 "nbformat": 4,
 "nbformat_minor": 5
}
