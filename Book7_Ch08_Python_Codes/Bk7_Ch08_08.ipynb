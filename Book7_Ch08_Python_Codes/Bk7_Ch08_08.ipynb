{
 "cells": [
  {
   "cell_type": "markdown",
   "id": "d6ef6479-b2ba-42e9-8e0e-bea7f535a8bc",
   "metadata": {},
   "source": [
    "Chapter 08\n",
    "\n",
    "# 马氏距离\n",
    "Book_7《机器学习》 | 鸢尾花书：从加减乘除到机器学习"
   ]
  },
  {
   "cell_type": "code",
   "execution_count": null,
   "id": "d15c1c77-959e-42b8-ad30-774b9af640af",
   "metadata": {},
   "outputs": [],
   "source": [
    "from scipy.spatial import distance\n",
    "import numpy as np\n",
    "from numpy.linalg import inv\n",
    "\n",
    "# Variance-covariance matrix\n",
    "SIGMA = np.array([[2, 1], [1, 2]])\n",
    "\n",
    "q   = [0, 0];       # query point\n",
    "x_1 = [-3.5, -4];   # data point 1\n",
    "x_2 = [2.75, -1.5]; # data point 1\n",
    "\n",
    "# Calculate Mahal distances\n",
    "\n",
    "d_1 = distance.mahalanobis(q, x_1, inv(SIGMA))\n",
    "d_2 = distance.mahalanobis(q, x_2, inv(SIGMA))\n",
    "\n",
    "# Note1: the output of the function is Mahal distance, not Mahal distance squared\n",
    "# Note2: input is the inverse of the covariance matrix"
   ]
  }
 ],
 "metadata": {
  "kernelspec": {
   "display_name": "Python 3 (ipykernel)",
   "language": "python",
   "name": "python3"
  },
  "language_info": {
   "codemirror_mode": {
    "name": "ipython",
    "version": 3
   },
   "file_extension": ".py",
   "mimetype": "text/x-python",
   "name": "python",
   "nbconvert_exporter": "python",
   "pygments_lexer": "ipython3",
   "version": "3.10.9"
  }
 },
 "nbformat": 4,
 "nbformat_minor": 5
}
