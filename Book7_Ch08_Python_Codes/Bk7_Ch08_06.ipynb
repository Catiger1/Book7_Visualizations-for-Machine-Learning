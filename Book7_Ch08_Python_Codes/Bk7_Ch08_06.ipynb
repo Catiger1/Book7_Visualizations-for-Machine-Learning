{
 "cells": [
  {
   "cell_type": "markdown",
   "id": "68587ff0-cc9d-4a4c-9ca0-df46c20839ba",
   "metadata": {},
   "source": [
    "Chapter 08\n",
    "\n",
    "# 成对欧氏距离\n",
    "Book_7《机器学习》 | 鸢尾花书：从加减乘除到机器学习"
   ]
  },
  {
   "cell_type": "code",
   "execution_count": null,
   "id": "76e67e09-c556-4073-9cd8-c857e328d865",
   "metadata": {},
   "outputs": [],
   "source": [
    "from sklearn.metrics.pairwise import euclidean_distances\n",
    "\n",
    "# Sample data points\n",
    "X = [[-5, 0], [4, 3], [3, -4]]\n",
    "\n",
    "# Query point\n",
    "q = [[0, 0]]\n",
    "\n",
    "# pairwise distances between rows of X and q\n",
    "dst_pairwise_X_q = euclidean_distances(X, q)\n",
    "print('Pairwise distances between X and q')\n",
    "print(dst_pairwise_X_q)\n",
    "\n",
    "# pairwise distances between rows of X and itself\n",
    "dst_pairwise_X_X = euclidean_distances(X, X)\n",
    "print('Pairwise distances between X and X')\n",
    "print(dst_pairwise_X_X)"
   ]
  }
 ],
 "metadata": {
  "kernelspec": {
   "display_name": "Python 3 (ipykernel)",
   "language": "python",
   "name": "python3"
  },
  "language_info": {
   "codemirror_mode": {
    "name": "ipython",
    "version": 3
   },
   "file_extension": ".py",
   "mimetype": "text/x-python",
   "name": "python",
   "nbconvert_exporter": "python",
   "pygments_lexer": "ipython3",
   "version": "3.10.9"
  }
 },
 "nbformat": 4,
 "nbformat_minor": 5
}
