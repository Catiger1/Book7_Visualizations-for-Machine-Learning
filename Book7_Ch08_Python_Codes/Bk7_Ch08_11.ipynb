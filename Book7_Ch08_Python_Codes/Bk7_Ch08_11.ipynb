{
 "cells": [
  {
   "cell_type": "markdown",
   "id": "e04bb48e-f95a-422b-8200-919e03aa8f4d",
   "metadata": {},
   "source": [
    "Chapter 08\n",
    "\n",
    "# 余弦相似性\n",
    "Book_7《机器学习》 | 鸢尾花书：从加减乘除到机器学习"
   ]
  },
  {
   "cell_type": "code",
   "execution_count": null,
   "id": "36b3b559-bd05-4a5a-abf0-dad629064d3c",
   "metadata": {},
   "outputs": [],
   "source": [
    "from sklearn.metrics.pairwise import cosine_similarity\n",
    "import numpy as np\n",
    "\n",
    "x = np.array([[8, 2]])\n",
    "q = np.array([[7, 9]])\n",
    "\n",
    "k_x_q = cosine_similarity(x,q)\n",
    "print(k_x_q)"
   ]
  }
 ],
 "metadata": {
  "kernelspec": {
   "display_name": "Python 3 (ipykernel)",
   "language": "python",
   "name": "python3"
  },
  "language_info": {
   "codemirror_mode": {
    "name": "ipython",
    "version": 3
   },
   "file_extension": ".py",
   "mimetype": "text/x-python",
   "name": "python",
   "nbconvert_exporter": "python",
   "pygments_lexer": "ipython3",
   "version": "3.10.9"
  }
 },
 "nbformat": 4,
 "nbformat_minor": 5
}
